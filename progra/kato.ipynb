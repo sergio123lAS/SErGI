{
 "cells": [
  {
   "cell_type": "code",
   "execution_count": 1,
   "metadata": {},
   "outputs": [
    {
     "name": "stdout",
     "output_type": "stream",
     "text": [
      "Fecha y hora actual: 2023-11-02 15:31:26.630907\n"
     ]
    }
   ],
   "source": [
    "import datetime\n",
    "\n",
    "# Obtener la fecha y hora actual\n",
    "fecha_hora_actual = datetime.datetime.now()\n",
    "\n",
    "# Imprimir la fecha y hora actual en un formato legible\n",
    "print(\"Fecha y hora actual:\", fecha_hora_actual)\n"
   ]
  },
  {
   "cell_type": "code",
   "execution_count": 11,
   "metadata": {},
   "outputs": [
    {
     "name": "stdout",
     "output_type": "stream",
     "text": [
      " \tDistrito\tN.Hab\tPiso\tArea\tPrecio(S/)\tFecha/Hora  \n",
      "1\tPueblo Libre\t2\t7\t60\t212000\t24/10/2021 05:15\n",
      "2\tJesus Maria\t3\t18\t80\t315000\t5/10/2021 04:20\n"
     ]
    }
   ],
   "source": [
    "print(\" \\tDistrito\\tN.Hab\\tPiso\\tArea\\tPrecio(S/)\\tFecha/Hora  \")\n",
    "print(\"1\\tPueblo Libre\\t2\\t7\\t60\\t212000\\t24/10/2021 05:15\")\n",
    "print(\"2\\tJesus Maria\\t3\\t18\\t80\\t315000\\t5/10/2021 04:20\")"
   ]
  }
 ],
 "metadata": {
  "kernelspec": {
   "display_name": "sergio",
   "language": "python",
   "name": "python3"
  },
  "language_info": {
   "codemirror_mode": {
    "name": "ipython",
    "version": 3
   },
   "file_extension": ".py",
   "mimetype": "text/x-python",
   "name": "python",
   "nbconvert_exporter": "python",
   "pygments_lexer": "ipython3",
   "version": "3.9.18"
  }
 },
 "nbformat": 4,
 "nbformat_minor": 2
}
